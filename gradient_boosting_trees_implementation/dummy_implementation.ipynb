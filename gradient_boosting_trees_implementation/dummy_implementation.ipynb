{
 "cells": [
  {
   "cell_type": "code",
   "execution_count": 34,
   "metadata": {
    "collapsed": true
   },
   "outputs": [],
   "source": [
    "from sklearn.tree import DecisionTreeRegressor\n",
    "from sklearn.linear_model import LinearRegression\n",
    "from sklearn.datasets import load_boston\n",
    "import numpy as np"
   ]
  },
  {
   "cell_type": "code",
   "execution_count": 35,
   "metadata": {
    "collapsed": false
   },
   "outputs": [],
   "source": [
    "boston = load_boston()\n",
    "X, y = boston['data'], boston['target']"
   ]
  },
  {
   "cell_type": "code",
   "execution_count": 36,
   "metadata": {
    "collapsed": false
   },
   "outputs": [
    {
     "name": "stdout",
     "output_type": "stream",
     "text": [
      "(506, 13) (506,)\n"
     ]
    }
   ],
   "source": [
    "print X.shape, y.shape"
   ]
  },
  {
   "cell_type": "markdown",
   "metadata": {},
   "source": [
    "h0 is the first weak learner. It's a constant..."
   ]
  },
  {
   "cell_type": "code",
   "execution_count": 37,
   "metadata": {
    "collapsed": false
   },
   "outputs": [],
   "source": [
    "res0 = y - 0\n",
    "h0 = np.mean(y)\n",
    "B0 = 1\n",
    "pred0 = B0 * h0\n",
    "F = pred0"
   ]
  },
  {
   "cell_type": "markdown",
   "metadata": {},
   "source": [
    "h1 is the first decision tree. I am just gonna use scikit-learn"
   ]
  },
  {
   "cell_type": "code",
   "execution_count": 38,
   "metadata": {
    "collapsed": false
   },
   "outputs": [],
   "source": [
    "res1 = y - F\n",
    "h1 = DecisionTreeRegressor(max_depth=2)\n",
    "h1.fit(X, res1)\n",
    "pred1 = h1.predict(X)\n",
    "B1_regressor = LinearRegression(fit_intercept=False)\n",
    "B1_regressor.fit(pred1.reshape(-1, 1), res1)\n",
    "B1 = B1_regressor.coef_[0]\n",
    "pred1 = B1 * pred1\n",
    "F = F + pred1"
   ]
  },
  {
   "cell_type": "markdown",
   "metadata": {},
   "source": [
    "do the same for h2 and h3 ..."
   ]
  },
  {
   "cell_type": "code",
   "execution_count": 39,
   "metadata": {
    "collapsed": true
   },
   "outputs": [],
   "source": [
    "res2 = y - F\n",
    "h2 = DecisionTreeRegressor(max_depth=2)\n",
    "h2.fit(X, res2)\n",
    "pred2 = h1.predict(X)\n",
    "B2_regressor = LinearRegression(fit_intercept=False)\n",
    "B2_regressor.fit(pred2.reshape(-1, 1), res2)\n",
    "B2 = B2_regressor.coef_[0]\n",
    "pred2 = B2 * pred2\n",
    "F = F + pred2"
   ]
  },
  {
   "cell_type": "code",
   "execution_count": 40,
   "metadata": {
    "collapsed": true
   },
   "outputs": [],
   "source": [
    "res3 = y - F\n",
    "h3 = DecisionTreeRegressor(max_depth=2)\n",
    "h3.fit(X, res3)\n",
    "pred3 = h1.predict(X)\n",
    "B3_regressor = LinearRegression(fit_intercept=False)\n",
    "B3_regressor.fit(pred2.reshape(-1, 1), res3)\n",
    "B3 = B3_regressor.coef_[0]\n",
    "pred3 = B3 * pred3\n",
    "F = F + pred3"
   ]
  },
  {
   "cell_type": "code",
   "execution_count": 41,
   "metadata": {
    "collapsed": true
   },
   "outputs": [],
   "source": [
    "res4 = y - F"
   ]
  },
  {
   "cell_type": "code",
   "execution_count": 42,
   "metadata": {
    "collapsed": false
   },
   "outputs": [
    {
     "name": "stdout",
     "output_type": "stream",
     "text": [
      "mse in iter 0: 592.15\n",
      "mse in iter 0: 84.42\n",
      "mse in iter 0: 25.70\n",
      "mse in iter 0: 25.70\n",
      "mse in iter 0: 28.73\n"
     ]
    }
   ],
   "source": [
    "print \"mse in iter 0: %.2f\" % (np.sum(res0.dot(res0)) / 506.)\n",
    "print \"mse in iter 0: %.2f\" % (np.sum(res0.dot(res1)) / 506.)\n",
    "print \"mse in iter 0: %.2f\" % (np.sum(res0.dot(res2)) / 506.)\n",
    "print \"mse in iter 0: %.2f\" % (np.sum(res0.dot(res3)) / 506.)\n",
    "print \"mse in iter 0: %.2f\" % (np.sum(res0.dot(res4)) / 506.)"
   ]
  }
 ],
 "metadata": {
  "kernelspec": {
   "display_name": "Python 2",
   "language": "python",
   "name": "python2"
  },
  "language_info": {
   "codemirror_mode": {
    "name": "ipython",
    "version": 2
   },
   "file_extension": ".py",
   "mimetype": "text/x-python",
   "name": "python",
   "nbconvert_exporter": "python",
   "pygments_lexer": "ipython2",
   "version": "2.7.12"
  }
 },
 "nbformat": 4,
 "nbformat_minor": 0
}
