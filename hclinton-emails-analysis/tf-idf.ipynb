{
 "metadata": {
  "name": "tf-idf"
 },
 "nbformat": 3,
 "nbformat_minor": 0,
 "worksheets": [
  {
   "cells": [
    {
     "cell_type": "code",
     "collapsed": false,
     "input": [
      "import pandas as pd\n",
      "import string\n",
      "import numpy as np\n",
      "import math"
     ],
     "language": "python",
     "metadata": {},
     "outputs": [],
     "prompt_number": 98
    },
    {
     "cell_type": "code",
     "collapsed": false,
     "input": [
      "body = pd.read_csv(\"cleaned_email_body.csv\")"
     ],
     "language": "python",
     "metadata": {},
     "outputs": [],
     "prompt_number": 16
    },
    {
     "cell_type": "code",
     "collapsed": false,
     "input": [
      "token_list = []\n",
      "def remove_punc(text):\n",
      "    for c in string.punctuation:\n",
      "        text = text.replace(c, '')\n",
      "    return text\n",
      "\n",
      "for index, row in body.iterrows():\n",
      "    text = row['ExtractedBodyText']\n",
      "    text = remove_punc(text)\n",
      "    tokens = text.split()\n",
      "    token_entry = []\n",
      "    for token in tokens:\n",
      "        token_entry += [token]\n",
      "    token_list += [token_entry]"
     ],
     "language": "python",
     "metadata": {},
     "outputs": [],
     "prompt_number": 24
    },
    {
     "cell_type": "code",
     "collapsed": false,
     "input": [
      "print token_list[0]"
     ],
     "language": "python",
     "metadata": {},
     "outputs": [
      {
       "output_type": "stream",
       "stream": "stdout",
       "text": [
        "['b6', 'thursday', 'march', '3', '2011', '945', 'pm', 'h', 'latest', 'how', 'syria', 'is', 'aiding', 'qaddafi', 'and', 'more', 'sid', 'hrc', 'memo', 'syria', 'aiding', 'libya', '030311docx', 'hrc', 'memo', 'syria', 'aiding', 'libya', '030311docx', 'march', '3', '2011', 'for', 'hillary']\n"
       ]
      }
     ],
     "prompt_number": 25
    },
    {
     "cell_type": "code",
     "collapsed": false,
     "input": [
      "vocab = set()\n",
      "for token_entry in token_list:\n",
      "    vocab = vocab.union(set(token_entry))\n",
      "vocab = list(vocab)"
     ],
     "language": "python",
     "metadata": {},
     "outputs": [],
     "prompt_number": 28
    },
    {
     "cell_type": "code",
     "collapsed": false,
     "input": [
      "len(vocab)"
     ],
     "language": "python",
     "metadata": {},
     "outputs": [
      {
       "output_type": "pyout",
       "prompt_number": 32,
       "text": [
        "33790"
       ]
      }
     ],
     "prompt_number": 32
    },
    {
     "cell_type": "code",
     "collapsed": false,
     "input": [
      "vocab_dict = dict.fromkeys(vocab, 0)"
     ],
     "language": "python",
     "metadata": {},
     "outputs": [],
     "prompt_number": 35
    },
    {
     "cell_type": "code",
     "collapsed": false,
     "input": [
      "index_list = []\n",
      "for token_entry in token_list:\n",
      "    vocab_local = vocab_dict.copy()\n",
      "    for token in token_entry:\n",
      "        vocab_local[token] += 1\n",
      "    index_list += [vocab_local.values()]\n",
      "index_list = np.array(index_list)"
     ],
     "language": "python",
     "metadata": {},
     "outputs": [],
     "prompt_number": 74
    },
    {
     "cell_type": "code",
     "collapsed": false,
     "input": [
      "# generating tf\n",
      "tf = []\n",
      "for index_entry in index_list:\n",
      "    tf_entry = index_entry.copy()\n",
      "    tf_entry = tf_entry.astype(np.float16)\n",
      "    row_sum = float(np.sum(tf_entry))\n",
      "    for i in list(np.nonzero(tf_entry)[0]):\n",
      "        tf_entry[i] = float(tf_entry[i]) / row_sum\n",
      "    tf += [tf_entry]\n",
      "tf = np.array(tf)"
     ],
     "language": "python",
     "metadata": {},
     "outputs": [],
     "prompt_number": 86
    },
    {
     "cell_type": "code",
     "collapsed": false,
     "input": [
      "# generating idf\n",
      "containing = np.zeros(len(vocab_dict.values()))\n",
      "for index_entry in index_list:\n",
      "    for i in list(np.nonzero(index_entry)[0]):\n",
      "        containing[i] += 1\n",
      "\n",
      "total_docs = containing.shape[0]\n",
      "idf = np.log(total_docs / (1 + containing))"
     ],
     "language": "python",
     "metadata": {},
     "outputs": [],
     "prompt_number": 104
    },
    {
     "cell_type": "code",
     "collapsed": false,
     "input": [
      "#tf-idf \n",
      "tf_idf = tf * idf"
     ],
     "language": "python",
     "metadata": {},
     "outputs": [],
     "prompt_number": 111
    },
    {
     "cell_type": "code",
     "collapsed": false,
     "input": [
      "np.save(open('tf-idf.model', 'wb'), tf_idf)"
     ],
     "language": "python",
     "metadata": {},
     "outputs": [],
     "prompt_number": 116
    },
    {
     "cell_type": "code",
     "collapsed": false,
     "input": [],
     "language": "python",
     "metadata": {},
     "outputs": []
    }
   ],
   "metadata": {}
  }
 ]
}