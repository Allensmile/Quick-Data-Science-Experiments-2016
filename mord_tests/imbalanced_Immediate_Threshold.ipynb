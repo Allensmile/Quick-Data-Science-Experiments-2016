{
 "cells": [
  {
   "cell_type": "code",
   "execution_count": 1,
   "metadata": {
    "collapsed": true
   },
   "outputs": [],
   "source": [
    "import numpy as np\n",
    "import mord as m"
   ]
  },
  {
   "cell_type": "markdown",
   "metadata": {},
   "source": [
    "### Balanced "
   ]
  },
  {
   "cell_type": "code",
   "execution_count": 13,
   "metadata": {
    "collapsed": false
   },
   "outputs": [
    {
     "data": {
      "text/plain": [
       "(array([[1],\n",
       "        [1],\n",
       "        [1],\n",
       "        [1],\n",
       "        [1],\n",
       "        [1],\n",
       "        [1],\n",
       "        [1],\n",
       "        [1],\n",
       "        [1],\n",
       "        [1],\n",
       "        [2],\n",
       "        [2],\n",
       "        [2],\n",
       "        [2],\n",
       "        [2],\n",
       "        [2],\n",
       "        [2],\n",
       "        [2],\n",
       "        [2],\n",
       "        [2]]),\n",
       " array([1, 1, 1, 1, 1, 1, 1, 1, 1, 1, 1, 2, 2, 2, 2, 2, 2, 2, 2, 2, 2]))"
      ]
     },
     "execution_count": 13,
     "metadata": {},
     "output_type": "execute_result"
    }
   ],
   "source": [
    "X = np.array([[1]])\n",
    "y = np.array([1])\n",
    "\n",
    "# add 10x [1] --> [1] \n",
    "for i in range(10):\n",
    "    new_elem_x = np.array([[1]])\n",
    "    X = np.concatenate([X, new_elem_x])\n",
    "    new_elem_y = np.array([1])\n",
    "    y = np.concatenate([y, new_elem_y])\n",
    "\n",
    "# add 10x [2] --> [2] \n",
    "for i in range(10):\n",
    "    new_elem_x = np.array([[2]])\n",
    "    X = np.concatenate([X, new_elem_x])\n",
    "    new_elem_y = np.array([2])\n",
    "    y = np.concatenate([y, new_elem_y])\n",
    "\n",
    "X, y"
   ]
  },
  {
   "cell_type": "code",
   "execution_count": 28,
   "metadata": {
    "collapsed": false
   },
   "outputs": [
    {
     "name": "stdout",
     "output_type": "stream",
     "text": [
      "[1 2]\n",
      "[ 2.41393604] [ 3.68281783]\n"
     ]
    }
   ],
   "source": [
    "c = m.LogisticIT() #Default parameters: alpha=1.0, verbose=0, maxiter=10000\n",
    "c.fit(X, y)\n",
    "print c.predict(np.array([[1], [2]]))\n",
    "print c.coef_, c.theta_"
   ]
  },
  {
   "cell_type": "markdown",
   "metadata": {},
   "source": [
    "### Imbalanced"
   ]
  },
  {
   "cell_type": "code",
   "execution_count": 23,
   "metadata": {
    "collapsed": false
   },
   "outputs": [
    {
     "data": {
      "text/plain": [
       "(array([[1],\n",
       "        [1],\n",
       "        [1],\n",
       "        [2],\n",
       "        [2],\n",
       "        [2],\n",
       "        [2],\n",
       "        [2],\n",
       "        [2],\n",
       "        [2],\n",
       "        [2],\n",
       "        [2],\n",
       "        [2],\n",
       "        [2],\n",
       "        [2],\n",
       "        [2],\n",
       "        [2],\n",
       "        [2],\n",
       "        [2],\n",
       "        [2],\n",
       "        [2]]),\n",
       " array([1, 1, 1, 2, 2, 2, 2, 2, 2, 2, 2, 2, 2, 2, 2, 2, 2, 2, 2, 2, 2]))"
      ]
     },
     "execution_count": 23,
     "metadata": {},
     "output_type": "execute_result"
    }
   ],
   "source": [
    "X_im = np.array([[1]])\n",
    "y_im = np.array([1])\n",
    "\n",
    "# add 2x [1] --> [1] \n",
    "for i in range(2):\n",
    "    new_elem_x = np.array([[1]])\n",
    "    X_im = np.concatenate([X_im, new_elem_x])\n",
    "    new_elem_y = np.array([1])\n",
    "    y_im = np.concatenate([y_im, new_elem_y])\n",
    "\n",
    "# add 18x [2] --> [2] \n",
    "for i in range(18):\n",
    "    new_elem_x = np.array([[2]])\n",
    "    X_im = np.concatenate([X_im, new_elem_x])\n",
    "    new_elem_y = np.array([2])\n",
    "    y_im = np.concatenate([y_im, new_elem_y])\n",
    "\n",
    "X_im, y_im"
   ]
  },
  {
   "cell_type": "code",
   "execution_count": 27,
   "metadata": {
    "collapsed": false
   },
   "outputs": [
    {
     "name": "stdout",
     "output_type": "stream",
     "text": [
      "[2 2]\n",
      "[ 1.7972587] [ 1.39559951]\n"
     ]
    }
   ],
   "source": [
    "c_im = m.LogisticIT() #Default parameters: alpha=1.0, verbose=0, maxiter=10000\n",
    "c_im.fit(X_im, y_im)\n",
    "print c_im.predict(np.array([[1], [2]]))\n",
    "print c_im.coef_, c_im.theta_"
   ]
  },
  {
   "cell_type": "markdown",
   "metadata": {},
   "source": [
    "### Now fit via the All-Threshold method instead of Immediate Threshold"
   ]
  },
  {
   "cell_type": "code",
   "execution_count": 32,
   "metadata": {
    "collapsed": false
   },
   "outputs": [
    {
     "name": "stdout",
     "output_type": "stream",
     "text": [
      "[2 2]\n",
      "[ 1.7972587] [ 1.39559951]\n"
     ]
    }
   ],
   "source": [
    "c_AT = m.LogisticAT() #Default parameters: alpha=1.0, verbose=0, maxiter=10000\n",
    "c_AT.fit(X_im, y_im)\n",
    "print c_AT.predict(np.array([[1], [2]]))\n",
    "print c_AT.coef_, c_im.theta_"
   ]
  },
  {
   "cell_type": "code",
   "execution_count": null,
   "metadata": {
    "collapsed": true
   },
   "outputs": [],
   "source": []
  }
 ],
 "metadata": {
  "kernelspec": {
   "display_name": "Python 2",
   "language": "python",
   "name": "python2"
  },
  "language_info": {
   "codemirror_mode": {
    "name": "ipython",
    "version": 2
   },
   "file_extension": ".py",
   "mimetype": "text/x-python",
   "name": "python",
   "nbconvert_exporter": "python",
   "pygments_lexer": "ipython2",
   "version": "2.7.5"
  }
 },
 "nbformat": 4,
 "nbformat_minor": 0
}
