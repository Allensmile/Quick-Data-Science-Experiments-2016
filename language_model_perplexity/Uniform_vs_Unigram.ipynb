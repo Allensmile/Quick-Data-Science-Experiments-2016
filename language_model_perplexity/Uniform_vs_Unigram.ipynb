{
 "cells": [
  {
   "cell_type": "code",
   "execution_count": 5,
   "metadata": {
    "collapsed": true
   },
   "outputs": [],
   "source": [
    "import numpy as np"
   ]
  },
  {
   "cell_type": "code",
   "execution_count": 14,
   "metadata": {
    "collapsed": true
   },
   "outputs": [],
   "source": [
    "example = \"the chicken crossed the road because its the chicken\"\n",
    "example_toks = example.split()"
   ]
  },
  {
   "cell_type": "code",
   "execution_count": 15,
   "metadata": {
    "collapsed": false
   },
   "outputs": [],
   "source": [
    "uniform_l = np.sum([np.log2(1.0 / len(example_toks)) for tok in example_toks]) / len(example_toks)\n",
    "uniform_pp = np.exp2(-uniform_l)"
   ]
  },
  {
   "cell_type": "code",
   "execution_count": 24,
   "metadata": {
    "collapsed": false
   },
   "outputs": [
    {
     "name": "stdout",
     "output_type": "stream",
     "text": [
      "The perplexity is 9.000000\n"
     ]
    }
   ],
   "source": [
    "print \"The perplexity is %f\" % uniform_pp"
   ]
  },
  {
   "cell_type": "code",
   "execution_count": 19,
   "metadata": {
    "collapsed": false
   },
   "outputs": [
    {
     "data": {
      "text/plain": [
       "{'because': 0.1111111111111111,\n",
       " 'chicken': 0.2222222222222222,\n",
       " 'crossed': 0.1111111111111111,\n",
       " 'its': 0.1111111111111111,\n",
       " 'road': 0.1111111111111111,\n",
       " 'the': 0.3333333333333333}"
      ]
     },
     "execution_count": 19,
     "metadata": {},
     "output_type": "execute_result"
    }
   ],
   "source": [
    "unigram_model = {}\n",
    "for word in set(example_toks):\n",
    "    unigram_model[word] = float(example_toks.count(word)) / len(example_toks)\n",
    "unigram_model"
   ]
  },
  {
   "cell_type": "code",
   "execution_count": 22,
   "metadata": {
    "collapsed": false
   },
   "outputs": [],
   "source": [
    "unigram_l = np.sum([np.log2(unigram_model[tok]) for tok in example_toks]) / len(example_toks)\n",
    "unigram_pp = np.exp2(-unigram_l)"
   ]
  },
  {
   "cell_type": "code",
   "execution_count": 25,
   "metadata": {
    "collapsed": false
   },
   "outputs": [
    {
     "name": "stdout",
     "output_type": "stream",
     "text": [
      "The perplexity is 5.349418\n"
     ]
    }
   ],
   "source": [
    "print \"The perplexity is %f\" % unigram_pp"
   ]
  },
  {
   "cell_type": "markdown",
   "metadata": {},
   "source": [
    "So we can see that a unigram model performs better than a uniform distribution."
   ]
  }
 ],
 "metadata": {
  "kernelspec": {
   "display_name": "Python 2",
   "language": "python",
   "name": "python2"
  },
  "language_info": {
   "codemirror_mode": {
    "name": "ipython",
    "version": 2
   },
   "file_extension": ".py",
   "mimetype": "text/x-python",
   "name": "python",
   "nbconvert_exporter": "python",
   "pygments_lexer": "ipython2",
   "version": "2.7.12"
  }
 },
 "nbformat": 4,
 "nbformat_minor": 0
}
