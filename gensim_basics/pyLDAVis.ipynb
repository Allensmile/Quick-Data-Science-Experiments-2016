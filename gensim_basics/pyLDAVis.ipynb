{
 "cells": [
  {
   "cell_type": "code",
   "execution_count": 1,
   "metadata": {
    "collapsed": false
   },
   "outputs": [
    {
     "name": "stdout",
     "output_type": "stream",
     "text": [
      "[(0, 1), (1, 1)]\n"
     ]
    }
   ],
   "source": [
    "import logging\n",
    "logging.basicConfig(format='%(asctime)s : %(levelname)s : %(message)s', level=logging.INFO)\n",
    "\n",
    "from gensim import corpora, models, similarities\n",
    "documents = [\"Human machine interface for lab abc computer applications\",\n",
    "             \"A survey of user opinion of computer system response time\",\n",
    "             \"The EPS user interface management system\",\n",
    "             \"System and human system engineering testing of EPS\",\n",
    "             \"Relation of user perceived response time to error measurement\",\n",
    "             \"The generation of random binary unordered trees\",\n",
    "             \"The intersection graph of paths in trees\",\n",
    "             \"Graph minors IV Widths of trees and well quasi ordering\",\n",
    "             \"Graph minors A survey\"]\n",
    "\n",
    "stoplist = set('for a of the and to in'.split())\n",
    "texts = [[word for word in document.lower().split() if word not in stoplist] for document in documents]\n",
    "from collections import defaultdict\n",
    "frequency = defaultdict(int)\n",
    "for text in texts:\n",
    "\tfor token in text:\n",
    "\t\tfrequency[token] += 1\n",
    "\n",
    "texts = [[token for token in text if frequency[token] > 1] for text in texts]\n",
    "from pprint import pprint\n",
    "# pprint(texts)\n",
    "\n",
    "dictionary = corpora.Dictionary(texts)\n",
    "# dictionary.save('temp/deerwester.dict')\n",
    "\n",
    "new_doc = \"Human computer interaction\"\n",
    "print dictionary.doc2bow(new_doc.lower().split())\n",
    "corpus = [dictionary.doc2bow(text) for text in texts]\n",
    "# corpora.MmCorpus.serialize('temp/deerwester.mm', corpus)\n",
    "\n",
    "class MyCorpus(object):\n",
    "\tdef __iter__(self):\n",
    "\t\tfor line in documents:\n",
    "\t\t\tyield dictionary.doc2bow(line.lower().split())\n",
    "corpus_memory_friendly = MyCorpus()"
   ]
  },
  {
   "cell_type": "code",
   "execution_count": 8,
   "metadata": {
    "collapsed": false
   },
   "outputs": [
    {
     "name": "stderr",
     "output_type": "stream",
     "text": [
      "WARNING:gensim.models.ldamodel:no word id mapping provided; initializing from corpus, assuming identity\n",
      "WARNING:gensim.models.ldamodel:too few updates, training might not converge; consider increasing the number of passes or iterations to improve accuracy\n"
     ]
    },
    {
     "data": {
      "text/html": [
       "\n",
       "<link rel=\"stylesheet\" type=\"text/css\" href=\"https://cdn.rawgit.com/bmabey/pyLDAvis/files/ldavis.v1.0.0.css\">\n",
       "\n",
       "\n",
       "<div id=\"ldavis_el575046004654885889635492\"></div>\n",
       "<script type=\"text/javascript\">\n",
       "\n",
       "var ldavis_el575046004654885889635492_data = {\"plot.opts\": {\"xlab\": \"PC1\", \"ylab\": \"PC2\"}, \"topic.order\": [3, 1, 2], \"token.table\": {\"Topic\": [1, 1, 3, 2, 1, 1, 3, 2, 1, 3, 1, 2, 1, 3, 1, 3, 2, 1, 3], \"Freq\": [0.9134543438278151, 0.46948405010050026, 0.46948405010050026, 0.73015510954931806, 0.9139114142936503, 0.46962855018829402, 0.46962855018829402, 0.97165768999614621, 0.4692935022313991, 0.4692935022313991, 0.47061833251161228, 0.47061833251161228, 0.55225526655240464, 0.27612763327620232, 0.46919487446211539, 0.46919487446211539, 0.7294842398751068, 0.35523010054756238, 0.71046020109512475], \"Term\": [\"computer\", \"eps\", \"eps\", \"graph\", \"human\", \"interface\", \"interface\", \"minors\", \"response\", \"response\", \"survey\", \"survey\", \"system\", \"system\", \"time\", \"time\", \"trees\", \"user\", \"user\"]}, \"mdsDat\": {\"y\": [0.02817242066189124, 0.0028666154052734197, -0.03103903606716479], \"cluster\": [1, 1, 1], \"Freq\": [43.904392226612984, 29.45006033995794, 26.645547433429083], \"topics\": [1, 2, 3], \"x\": [0.081478607380220794, -0.14229094046930441, 0.060812333089083619]}, \"R\": 12, \"lambda.step\": 0.01, \"tinfo\": {\"Category\": [\"Default\", \"Default\", \"Default\", \"Default\", \"Default\", \"Default\", \"Default\", \"Default\", \"Default\", \"Default\", \"Default\", \"Default\", \"Topic1\", \"Topic1\", \"Topic1\", \"Topic1\", \"Topic1\", \"Topic1\", \"Topic1\", \"Topic1\", \"Topic1\", \"Topic1\", \"Topic1\", \"Topic1\", \"Topic2\", \"Topic2\", \"Topic2\", \"Topic2\", \"Topic2\", \"Topic2\", \"Topic2\", \"Topic2\", \"Topic2\", \"Topic2\", \"Topic2\", \"Topic2\", \"Topic3\", \"Topic3\", \"Topic3\", \"Topic3\", \"Topic3\", \"Topic3\", \"Topic3\", \"Topic3\", \"Topic3\", \"Topic3\", \"Topic3\", \"Topic3\"], \"Term\": [\"graph\", \"trees\", \"minors\", \"user\", \"system\", \"response\", \"eps\", \"interface\", \"time\", \"computer\", \"human\", \"survey\", \"computer\", \"human\", \"system\", \"time\", \"response\", \"survey\", \"eps\", \"interface\", \"user\", \"minors\", \"trees\", \"graph\", \"graph\", \"minors\", \"trees\", \"survey\", \"interface\", \"time\", \"eps\", \"human\", \"computer\", \"response\", \"user\", \"system\", \"user\", \"eps\", \"interface\", \"response\", \"time\", \"system\", \"trees\", \"minors\", \"human\", \"graph\", \"survey\", \"computer\"], \"loglift\": [12.0, 11.0, 10.0, 9.0, 8.0, 7.0, 6.0, 5.0, 4.0, 3.0, 2.0, 1.0, 0.5544, 0.54730000000000001, 0.43359999999999999, 0.067599999999999993, 0.061699999999999998, 0.0613, 0.052600000000000001, 0.046100000000000002, -0.1933, -1.1376999999999999, -1.2270000000000001, -1.2903, 0.94289999999999996, 0.91300000000000003, 0.90859999999999996, 0.3377, -0.86599999999999999, -0.88839999999999997, -0.89980000000000004, -0.91869999999999996, -0.92149999999999999, -0.92400000000000004, -1.1261000000000001, -1.3737999999999999, 0.71120000000000005, 0.44900000000000001, 0.44629999999999997, 0.44579999999999997, 0.42880000000000001, -0.071400000000000005, -0.63900000000000001, -0.75329999999999997, -0.76849999999999996, -0.77229999999999999, -0.79420000000000002, -0.81020000000000003], \"Freq\": [2.0, 2.0, 2.0, 2.0, 3.0, 2.0, 2.0, 2.0, 2.0, 2.0, 2.0, 2.0, 1.6734341272380442, 1.6608413584715245, 2.4530207272414417, 1.0011723314207923, 0.9950384357133365, 0.9918622143788981, 0.98567428103188393, 0.9790151197240019, 1.0187026998775177, 0.28968381430497614, 0.35289685525211922, 0.33093178106323201, 2.071057439961264, 1.5104285532646959, 2.0031850122722106, 0.87712194475356164, 0.26378284489800125, 0.25818140587011063, 0.25509140483093884, 0.25717498384127546, 0.25657549679174474, 0.24909652183440129, 0.2688442469832848, 0.26997764328631574, 1.5275298117206633, 0.88923212723846312, 0.8865444690930202, 0.8867277014176963, 0.87195684266033591, 0.89851530463466101, 0.38558120163589676, 0.2582256876850878, 0.27037956643703526, 0.33715479624394806, 0.25587994181143081, 0.25948130511619749], \"Total\": [2.0, 2.0, 2.0, 2.0, 3.0, 2.0, 2.0, 2.0, 2.0, 2.0, 2.0, 2.0, 2.1894909291459861, 2.1883959087498353, 3.6215136751624186, 2.1313105799512391, 2.1308626589654343, 2.1248641009438907, 2.1299978131012858, 2.1293424337150233, 2.8150767585814656, 2.0583380552547599, 2.7416630691602264, 2.739144017268444, 2.739144017268444, 2.0583380552547599, 2.7416630691602264, 2.1248641009438907, 2.1293424337150233, 2.1313105799512391, 2.1299978131012858, 2.1883959087498353, 2.1894909291459861, 2.1308626589654343, 2.8150767585814656, 3.6215136751624186, 2.8150767585814656, 2.1299978131012858, 2.1293424337150233, 2.1308626589654343, 2.1313105799512391, 3.6215136751624186, 2.7416630691602264, 2.0583380552547599, 2.1883959087498353, 2.739144017268444, 2.1248641009438907, 2.1894909291459861], \"logprob\": [12.0, 11.0, 10.0, 9.0, 8.0, 7.0, 6.0, 5.0, 4.0, 3.0, 2.0, 1.0, -2.0293000000000001, -2.0367999999999999, -1.6468, -2.5430000000000001, -2.5491000000000001, -2.5522999999999998, -2.5586000000000002, -2.5653000000000001, -2.5255999999999998, -3.7831000000000001, -3.5857000000000001, -3.6499999999999999, -1.4168000000000001, -1.7323999999999999, -1.4500999999999999, -2.2759, -3.4775, -3.4988999999999999, -3.5110000000000001, -3.5028000000000001, -3.5051999999999999, -3.5347, -3.4584000000000001, -3.4542000000000002, -1.6211, -2.1621000000000001, -2.1652, -2.165, -2.1818, -2.1518000000000002, -2.9977999999999998, -3.3986999999999998, -3.3527, -3.1320000000000001, -3.4077999999999999, -3.3938000000000001]}};\n",
       "\n",
       "function LDAvis_load_lib(url, callback){\n",
       "  var s = document.createElement('script');\n",
       "  s.src = url;\n",
       "  s.async = true;\n",
       "  s.onreadystatechange = s.onload = callback;\n",
       "  s.onerror = function(){console.warn(\"failed to load library \" + url);};\n",
       "  document.getElementsByTagName(\"head\")[0].appendChild(s);\n",
       "}\n",
       "\n",
       "if(typeof(LDAvis) !== \"undefined\"){\n",
       "   // already loaded: just create the visualization\n",
       "   !function(LDAvis){\n",
       "       new LDAvis(\"#\" + \"ldavis_el575046004654885889635492\", ldavis_el575046004654885889635492_data);\n",
       "   }(LDAvis);\n",
       "}else if(typeof define === \"function\" && define.amd){\n",
       "   // require.js is available: use it to load d3/LDAvis\n",
       "   require.config({paths: {d3: \"https://cdnjs.cloudflare.com/ajax/libs/d3/3.5.5/d3.min\"}});\n",
       "   require([\"d3\"], function(d3){\n",
       "      window.d3 = d3;\n",
       "      LDAvis_load_lib(\"https://cdn.rawgit.com/bmabey/pyLDAvis/files/ldavis.v1.0.0.js\", function(){\n",
       "        new LDAvis(\"#\" + \"ldavis_el575046004654885889635492\", ldavis_el575046004654885889635492_data);\n",
       "      });\n",
       "    });\n",
       "}else{\n",
       "    // require.js not available: dynamically load d3 & LDAvis\n",
       "    LDAvis_load_lib(\"https://cdnjs.cloudflare.com/ajax/libs/d3/3.5.5/d3.min.js\", function(){\n",
       "         LDAvis_load_lib(\"https://cdn.rawgit.com/bmabey/pyLDAvis/files/ldavis.v1.0.0.js\", function(){\n",
       "                 new LDAvis(\"#\" + \"ldavis_el575046004654885889635492\", ldavis_el575046004654885889635492_data);\n",
       "            })\n",
       "         });\n",
       "}\n",
       "</script>"
      ],
      "text/plain": [
       "PreparedData(topic_coordinates=            Freq  cluster  topics         x         y\n",
       "topic                                                \n",
       "2      43.904392        1       1  0.081479  0.028172\n",
       "0      29.450060        1       2 -0.142291  0.002867\n",
       "1      26.645547        1       3  0.060812 -0.031039, topic_info=     Category      Freq       Term     Total  loglift  logprob\n",
       "term                                                          \n",
       "1     Default  2.000000      graph  2.000000  12.0000  12.0000\n",
       "3     Default  2.000000      trees  2.000000  11.0000  11.0000\n",
       "0     Default  2.000000     minors  2.000000  10.0000  10.0000\n",
       "7     Default  2.000000       user  2.000000   9.0000   9.0000\n",
       "2     Default  3.000000     system  3.000000   8.0000   8.0000\n",
       "11    Default  2.000000   response  2.000000   7.0000   7.0000\n",
       "4     Default  2.000000        eps  2.000000   6.0000   6.0000\n",
       "10    Default  2.000000  interface  2.000000   5.0000   5.0000\n",
       "9     Default  2.000000       time  2.000000   4.0000   4.0000\n",
       "5     Default  2.000000   computer  2.000000   3.0000   3.0000\n",
       "8     Default  2.000000      human  2.000000   2.0000   2.0000\n",
       "6     Default  2.000000     survey  2.000000   1.0000   1.0000\n",
       "5      Topic1  1.673434   computer  2.189491   0.5544  -2.0293\n",
       "8      Topic1  1.660841      human  2.188396   0.5473  -2.0368\n",
       "2      Topic1  2.453021     system  3.621514   0.4336  -1.6468\n",
       "9      Topic1  1.001172       time  2.131311   0.0676  -2.5430\n",
       "11     Topic1  0.995038   response  2.130863   0.0617  -2.5491\n",
       "6      Topic1  0.991862     survey  2.124864   0.0613  -2.5523\n",
       "4      Topic1  0.985674        eps  2.129998   0.0526  -2.5586\n",
       "10     Topic1  0.979015  interface  2.129342   0.0461  -2.5653\n",
       "7      Topic1  1.018703       user  2.815077  -0.1933  -2.5256\n",
       "0      Topic1  0.289684     minors  2.058338  -1.1377  -3.7831\n",
       "3      Topic1  0.352897      trees  2.741663  -1.2270  -3.5857\n",
       "1      Topic1  0.330932      graph  2.739144  -1.2903  -3.6500\n",
       "1      Topic2  2.071057      graph  2.739144   0.9429  -1.4168\n",
       "0      Topic2  1.510429     minors  2.058338   0.9130  -1.7324\n",
       "3      Topic2  2.003185      trees  2.741663   0.9086  -1.4501\n",
       "6      Topic2  0.877122     survey  2.124864   0.3377  -2.2759\n",
       "10     Topic2  0.263783  interface  2.129342  -0.8660  -3.4775\n",
       "9      Topic2  0.258181       time  2.131311  -0.8884  -3.4989\n",
       "4      Topic2  0.255091        eps  2.129998  -0.8998  -3.5110\n",
       "8      Topic2  0.257175      human  2.188396  -0.9187  -3.5028\n",
       "5      Topic2  0.256575   computer  2.189491  -0.9215  -3.5052\n",
       "11     Topic2  0.249097   response  2.130863  -0.9240  -3.5347\n",
       "7      Topic2  0.268844       user  2.815077  -1.1261  -3.4584\n",
       "2      Topic2  0.269978     system  3.621514  -1.3738  -3.4542\n",
       "7      Topic3  1.527530       user  2.815077   0.7112  -1.6211\n",
       "4      Topic3  0.889232        eps  2.129998   0.4490  -2.1621\n",
       "10     Topic3  0.886544  interface  2.129342   0.4463  -2.1652\n",
       "11     Topic3  0.886728   response  2.130863   0.4458  -2.1650\n",
       "9      Topic3  0.871957       time  2.131311   0.4288  -2.1818\n",
       "2      Topic3  0.898515     system  3.621514  -0.0714  -2.1518\n",
       "3      Topic3  0.385581      trees  2.741663  -0.6390  -2.9978\n",
       "0      Topic3  0.258226     minors  2.058338  -0.7533  -3.3987\n",
       "8      Topic3  0.270380      human  2.188396  -0.7685  -3.3527\n",
       "1      Topic3  0.337155      graph  2.739144  -0.7723  -3.1320\n",
       "6      Topic3  0.255880     survey  2.124864  -0.7942  -3.4078\n",
       "5      Topic3  0.259481   computer  2.189491  -0.8102  -3.3938, token_table=      Topic      Freq       Term\n",
       "term                            \n",
       "5         1  0.913454   computer\n",
       "4         1  0.469484        eps\n",
       "4         3  0.469484        eps\n",
       "1         2  0.730155      graph\n",
       "8         1  0.913911      human\n",
       "10        1  0.469629  interface\n",
       "10        3  0.469629  interface\n",
       "0         2  0.971658     minors\n",
       "11        1  0.469294   response\n",
       "11        3  0.469294   response\n",
       "6         1  0.470618     survey\n",
       "6         2  0.470618     survey\n",
       "2         1  0.552255     system\n",
       "2         3  0.276128     system\n",
       "9         1  0.469195       time\n",
       "9         3  0.469195       time\n",
       "3         2  0.729484      trees\n",
       "7         1  0.355230       user\n",
       "7         3  0.710460       user, R=12, lambda_step=0.01, plot_opts={'xlab': 'PC1', 'ylab': 'PC2'}, topic_order=[3, 1, 2])"
      ]
     },
     "execution_count": 8,
     "metadata": {},
     "output_type": "execute_result"
    }
   ],
   "source": [
    "lda = models.LdaModel(corpus, num_topics=3)\n",
    "import pyLDAvis\n",
    "pyLDAvis.enable_notebook()\n",
    "import pyLDAvis.gensim\n",
    "pyLDAvis.gensim.prepare(lda, corpus, dictionary)"
   ]
  },
  {
   "cell_type": "code",
   "execution_count": null,
   "metadata": {
    "collapsed": true
   },
   "outputs": [],
   "source": []
  }
 ],
 "metadata": {
  "kernelspec": {
   "display_name": "Python 2",
   "language": "python",
   "name": "python2"
  },
  "language_info": {
   "codemirror_mode": {
    "name": "ipython",
    "version": 2
   },
   "file_extension": ".py",
   "mimetype": "text/x-python",
   "name": "python",
   "nbconvert_exporter": "python",
   "pygments_lexer": "ipython2",
   "version": "2.7.5"
  }
 },
 "nbformat": 4,
 "nbformat_minor": 0
}
