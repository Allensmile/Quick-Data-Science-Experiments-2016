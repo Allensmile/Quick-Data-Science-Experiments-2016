{
 "cells": [
  {
   "cell_type": "code",
   "execution_count": 1,
   "metadata": {
    "collapsed": true
   },
   "outputs": [],
   "source": [
    "import matplotlib as mpl\n",
    "import matplotlib.pyplot as plt\n",
    "import numpy as np\n",
    "from sklearn import datasets\n",
    "from sklearn.mixture import GMM\n",
    "import scipy.stats\n",
    "%matplotlib inline"
   ]
  },
  {
   "cell_type": "markdown",
   "metadata": {},
   "source": [
    "If we think of neural networks as the ultimate method to model a function, then the ultimate method to model density would be through Gaussian Mixture Models. \n",
    "\n",
    "GMMs are similar to K-Means. Instead of centroids from K-Means, a GMM cluster is a Gaussian and weighted by priors.\n",
    "\n",
    "This notebook is a simple example of GMM applied on the Iris dataset."
   ]
  },
  {
   "cell_type": "code",
   "execution_count": 2,
   "metadata": {
    "collapsed": false
   },
   "outputs": [
    {
     "name": "stdout",
     "output_type": "stream",
     "text": [
      "(150, 2) (150,)\n",
      "Iris has 3 unique classes\n"
     ]
    }
   ],
   "source": [
    "iris = datasets.load_iris()\n",
    "X = iris.data[:, :2] # we only take the first two features.\n",
    "Y = iris.target\n",
    "n_classes = len(np.unique(Y))\n",
    "print X.shape, Y.shape\n",
    "print \"Iris has %d unique classes\" % (n_classes)"
   ]
  },
  {
   "cell_type": "markdown",
   "metadata": {},
   "source": [
    "We will now fit a GMM of 3 components with spherical covariance, which just means that the covariance matrix is a diagonal matrix with tied weights.\n",
    "\n",
    "The GMM converges via Expecation Maximization, a coordinate descent method. \n",
    "\n",
    "Note: K-Means also converges via coordinate descent. "
   ]
  },
  {
   "cell_type": "code",
   "execution_count": 3,
   "metadata": {
    "collapsed": false
   },
   "outputs": [
    {
     "name": "stdout",
     "output_type": "stream",
     "text": [
      "initialized means to [[ 5.006  3.418]\n",
      " [ 5.936  2.77 ]\n",
      " [ 6.588  2.974]]\n",
      "Expectation-maximization algorithm started.\n",
      "Initialization 1\n",
      "\tEM iteration 1\n",
      "\tEM iteration 2\n",
      "\tEM iteration 3\n",
      "\tEM iteration 4\n",
      "\tEM iteration 5\n",
      "\tEM iteration 6\n",
      "\tEM iteration 7\n",
      "\tEM iteration 8\n",
      "\tEM iteration 9\n",
      "\tEM iteration 10\n",
      "\tEM iteration 11\n",
      "\t\tEM algorithm converged.\n",
      "\n",
      "\n",
      " GMM(covariance_type='spherical', init_params='wmc', min_covar=0.001,\n",
      "  n_components=3, n_init=1, n_iter=100, params='wmc', random_state=None,\n",
      "  thresh=None, tol=0.001, verbose=1) \n",
      "\n",
      "\n",
      "weights are[ 0.31747882  0.26274873  0.41977245]\n",
      "means are[[ 5.99140486  2.77107632]\n",
      " [ 6.87395421  3.07555669]\n",
      " [ 5.08624721  3.25448548]]\n",
      "convariance matrix is [[ 0.0918648   0.0918648 ]\n",
      " [ 0.14850676  0.14850676]\n",
      " [ 0.19587191  0.19587191]]\n"
     ]
    }
   ],
   "source": [
    "gmm = GMM(n_components=3, covariance_type='spherical', verbose=1)\n",
    "gmm.means = np.array([X[Y == i].mean(axis=0) for i in xrange(n_classes)])\n",
    "print \"initialized means to \" + str(gmm.means)\n",
    "res = gmm.fit(X)\n",
    "print \"\\n\\n %s \\n\\n\" % (str(res))\n",
    "print \"weights are\" + str(gmm.weights_)\n",
    "print \"means are\" + str(gmm.means_)\n",
    "print \"convariance matrix is \" + str(gmm.covars_)"
   ]
  },
  {
   "cell_type": "code",
   "execution_count": 4,
   "metadata": {
    "collapsed": false
   },
   "outputs": [
    {
     "data": {
      "text/plain": [
       "<matplotlib.collections.PathCollection at 0x108d84690>"
      ]
     },
     "execution_count": 4,
     "metadata": {},
     "output_type": "execute_result"
    },
    {
     "name": "stderr",
     "output_type": "stream",
     "text": [
      "/Users/jason.xie/anaconda/lib/python2.7/site-packages/matplotlib/collections.py:590: FutureWarning: elementwise comparison failed; returning scalar instead, but in the future will perform elementwise comparison\n",
      "  if self._edgecolors == str('face'):\n"
     ]
    },
    {
     "data": {
      "image/png": "[encoded data removed]",
      "text/plain": [
       "<matplotlib.figure.Figure at 0x108cc22d0>"
      ]
     },
     "metadata": {},
     "output_type": "display_data"
    }
   ],
   "source": [
    "fig, ax = plt.subplots(1,1, sharey=True)\n",
    "ax.scatter(X[:, 0], X[:, 1], c=Y)\n",
    "ax.scatter(gmm.means_[0][0], gmm.means_[0][1], s=5000 * gmm.covars_[0][0], facecolors='none', edgecolors='r')\n",
    "ax.scatter(gmm.means_[1][0], gmm.means_[1][1], s=5000 * gmm.covars_[1][0], facecolors='none', edgecolors='r')\n",
    "ax.scatter(gmm.means_[2][0], gmm.means_[2][1], s=5000 * gmm.covars_[2][0], facecolors='none', edgecolors='r')"
   ]
  },
  {
   "cell_type": "markdown",
   "metadata": {},
   "source": [
    "Given a datapoint, we can model the likelihood or pdf. "
   ]
  },
  {
   "cell_type": "code",
   "execution_count": 5,
   "metadata": {
    "collapsed": false
   },
   "outputs": [
    {
     "name": "stdout",
     "output_type": "stream",
     "text": [
      "Let's take an example: [ 5.1  3.5]\n",
      "Its probability for each cluster is [  1.27195645e-03   1.46293047e-05   6.96327692e-01]\n",
      "Its weighted probability is 0.292707\n"
     ]
    }
   ],
   "source": [
    "example = X[0]\n",
    "print \"Let's take an example: %s\" % (str(example))\n",
    "prob_for_each_cluster = np.array([\n",
    "        scipy.stats.multivariate_normal.pdf(example, mean=gmm.means_[i], cov=np.diag(gmm.covars_[i]))\n",
    "        for i in range(3)])\n",
    "print \"Its probability for each cluster is %s\" % (str(prob_for_each_cluster))\n",
    "prob_example = gmm.weights_.dot(prob_for_each_cluster)\n",
    "print \"Its weighted probability is %f\" % (prob_example)"
   ]
  },
  {
   "cell_type": "markdown",
   "metadata": {},
   "source": [
    "Similarly, we can sample from the GMM, because it is a generative model."
   ]
  },
  {
   "cell_type": "code",
   "execution_count": 6,
   "metadata": {
    "collapsed": false
   },
   "outputs": [
    {
     "data": {
      "text/plain": [
       "array([[ 5.75265248,  2.97568727],\n",
       "       [ 5.52249408,  2.47148347],\n",
       "       [ 6.12821276,  2.10229956],\n",
       "       [ 5.53108186,  3.02607601],\n",
       "       [ 5.23608122,  3.37813372]])"
      ]
     },
     "execution_count": 6,
     "metadata": {},
     "output_type": "execute_result"
    }
   ],
   "source": [
    "gmm.sample(5)"
   ]
  },
  {
   "cell_type": "code",
   "execution_count": null,
   "metadata": {
    "collapsed": true
   },
   "outputs": [],
   "source": []
  }
 ],
 "metadata": {
  "kernelspec": {
   "display_name": "Python 2",
   "language": "python",
   "name": "python2"
  },
  "language_info": {
   "codemirror_mode": {
    "name": "ipython",
    "version": 2
   },
   "file_extension": ".py",
   "mimetype": "text/x-python",
   "name": "python",
   "nbconvert_exporter": "python",
   "pygments_lexer": "ipython2",
   "version": "2.7.12"
  }
 },
 "nbformat": 4,
 "nbformat_minor": 0
}
